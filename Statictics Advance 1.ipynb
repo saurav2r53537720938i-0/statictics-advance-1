{
 "cells": [
  {
   "cell_type": "markdown",
   "id": "20296af9-91f9-4517-a1ff-8ba800de4129",
   "metadata": {},
   "source": [
    "The probality density function(pdf) describes the likelihood of a continous random variable taking on a particular value within a given range.it denoted as f(x) where(x) is the variable.The PDF satisfies two properties. it always non-negative."
   ]
  },
  {
   "cell_type": "markdown",
   "id": "18167ff7-f200-49a2-a61f-fa0087a51bee",
   "metadata": {},
   "source": [
    "There are sevral types of probality distribution including:"
   ]
  },
  {
   "cell_type": "markdown",
   "id": "bb97bda3-325e-4fe7-9e9b-e68d41199ee7",
   "metadata": {},
   "source": [
    "1. Discrete distributions:These describe the probality of discrete outcomes,such as the binomiaal,poisson,and geometric distribution.\n",
    "2. Continous distribution: Theses describe the probalities of continous outcomes,such as the normal(gaussian),uniform,and exponetial.\n",
    "3. Mixed distribution: These combine both discrete and continous element,such as the mixture distribution."
   ]
  },
  {
   "cell_type": "code",
   "execution_count": 1,
   "id": "b2fd4d8e-8c27-4e6c-82d1-db9db753994c",
   "metadata": {},
   "outputs": [
    {
     "ename": "SyntaxError",
     "evalue": "invalid syntax (153922498.py, line 14)",
     "output_type": "error",
     "traceback": [
      "\u001b[0;36m  Cell \u001b[0;32mIn[1], line 14\u001b[0;36m\u001b[0m\n\u001b[0;31m    returns norm.pdf(x,loc=mean,scale=std_dev)\u001b[0m\n\u001b[0m            ^\u001b[0m\n\u001b[0;31mSyntaxError\u001b[0m\u001b[0;31m:\u001b[0m invalid syntax\n"
     ]
    }
   ],
   "source": [
    "from scipy.stats import norm\n",
    "\n",
    "def normal_pdf(x,mean,std_dev):\n",
    "    \"\"\"\n",
    "    Calculate the probality density function (pdf) of a normal distribution at a given point \n",
    "    \n",
    "    parameters:\n",
    "    x(float):The point at which to evaluate the pdf.\n",
    "    mean(float):The mean of the normal distribution.\n",
    "    std_dey(float):The standarddevation of the normal distribution\n",
    "     returns:\n",
    "     float:The probality density function value at the givenn point.\n",
    "     \"\"\"\n",
    "    returns norm.pdf(x,loc=mean,scale=std_dev)"
   ]
  },
  {
   "cell_type": "markdown",
   "id": "be5070d4-0e6e-4419-a02e-639db0707c7f",
   "metadata": {},
   "source": [
    "The properties of the binomial distribution include:\n",
    "1. Discreteness\n",
    "2. Parmeters\n",
    "3. Probality mass function\n",
    "4. independence\n",
    "5. fixed number of trials."
   ]
  },
  {
   "cell_type": "code",
   "execution_count": 2,
   "id": "6317867f-0dc0-467a-8876-a827946a7fb0",
   "metadata": {},
   "outputs": [
    {
     "ename": "SyntaxError",
     "evalue": "unmatched ')' (3154263782.py, line 11)",
     "output_type": "error",
     "traceback": [
      "\u001b[0;36m  Cell \u001b[0;32mIn[2], line 11\u001b[0;36m\u001b[0m\n\u001b[0;31m    colour =skyblue, edgecolour='black')\u001b[0m\n\u001b[0m                                       ^\u001b[0m\n\u001b[0;31mSyntaxError\u001b[0m\u001b[0;31m:\u001b[0m unmatched ')'\n"
     ]
    }
   ],
   "source": [
    "import matpolib. pyolot as plt import numpy as np \n",
    "# parameters\n",
    "n=1000 # sample size\n",
    "p=0.4 # probability of susccess\n",
    "\n",
    "# generate random sample\n",
    "sample= np. random. binomial(n, p, size=n)\n",
    "\n",
    "# plot histogram \n",
    "plt.histsample, bins=30,\n",
    "colour =skyblue, edgecolour='black')\n",
    "plt. title('histogram of binomial distributation')\n",
    "plt.xlable ('number of successes')\n",
    "plt.ylable('frequency')\n",
    "plt.grid (True)\n",
    "plt.show()"
   ]
  },
  {
   "cell_type": "code",
   "execution_count": 3,
   "id": "8e6f1b68-a008-444b-b9d6-281c289ae16a",
   "metadata": {},
   "outputs": [
    {
     "ename": "SyntaxError",
     "evalue": "unterminated triple-quoted string literal (detected at line 14) (319774653.py, line 13)",
     "output_type": "error",
     "traceback": [
      "\u001b[0;36m  Cell \u001b[0;32mIn[3], line 13\u001b[0;36m\u001b[0m\n\u001b[0;31m    \"\"\"\u001b[0m\n\u001b[0m    ^\u001b[0m\n\u001b[0;31mSyntaxError\u001b[0m\u001b[0;31m:\u001b[0m unterminated triple-quoted string literal (detected at line 14)\n"
     ]
    }
   ],
   "source": [
    "from scipy.stats import poisson\n",
    "\n",
    "def poisson_cdf(k,mu):\n",
    "    \n",
    "    Calculate the cumulative distribution function(cdf) of a poisson distribution at a given pointy.\n",
    "    \n",
    "     Parmeters:\n",
    "            k(int):The point at which to evaluates the CDF.\n",
    "            mu(float):The mean parmeter of the poisson distribution\n",
    "            \n",
    "            Returns:\n",
    "                float:The cumulative distribution function value at the given point.\n",
    "                \"\"\"\n",
    "                return poisson.cdf(k,mu)"
   ]
  },
  {
   "cell_type": "markdown",
   "id": "c085a22b-8296-4f09-ac97-d4438033c7b0",
   "metadata": {},
   "source": [
    "The main diffrence between the binomial distribution and the poisson distribution lies in their underlaying assumption and the types of "
   ]
  }
 ],
 "metadata": {
  "kernelspec": {
   "display_name": "Python 3 (ipykernel)",
   "language": "python",
   "name": "python3"
  },
  "language_info": {
   "codemirror_mode": {
    "name": "ipython",
    "version": 3
   },
   "file_extension": ".py",
   "mimetype": "text/x-python",
   "name": "python",
   "nbconvert_exporter": "python",
   "pygments_lexer": "ipython3",
   "version": "3.10.8"
  }
 },
 "nbformat": 4,
 "nbformat_minor": 5
}
